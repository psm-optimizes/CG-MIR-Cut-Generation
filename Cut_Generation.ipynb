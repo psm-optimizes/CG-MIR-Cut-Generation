{
  "nbformat": 4,
  "nbformat_minor": 0,
  "metadata": {
    "colab": {
      "provenance": [],
      "collapsed_sections": [
        "kbmDz0gPBaN0"
      ],
      "authorship_tag": "ABX9TyOiL52CGfVIBr1ISqeFZD4i",
      "include_colab_link": true
    },
    "kernelspec": {
      "name": "python3",
      "display_name": "Python 3"
    },
    "language_info": {
      "name": "python"
    }
  },
  "cells": [
    {
      "cell_type": "markdown",
      "metadata": {
        "id": "view-in-github",
        "colab_type": "text"
      },
      "source": [
        "<a href=\"https://colab.research.google.com/github/psm-optimizes/CG-MIR-Cut-Generation/blob/main/Cut_Generation.ipynb\" target=\"_parent\"><img src=\"https://colab.research.google.com/assets/colab-badge.svg\" alt=\"Open In Colab\"/></a>"
      ]
    },
    {
      "cell_type": "markdown",
      "source": [
        "# **Installing Packages**"
      ],
      "metadata": {
        "id": "kbmDz0gPBaN0"
      }
    },
    {
      "cell_type": "code",
      "source": [
        "pip install coinor.cuppy"
      ],
      "metadata": {
        "colab": {
          "base_uri": "https://localhost:8080/"
        },
        "id": "dCVSFbJSBZF8",
        "outputId": "f3ef898f-5e4a-48f4-c3c1-ee72cc8b433d"
      },
      "execution_count": null,
      "outputs": [
        {
          "output_type": "stream",
          "name": "stdout",
          "text": [
            "Looking in indexes: https://pypi.org/simple, https://us-python.pkg.dev/colab-wheels/public/simple/\n",
            "Requirement already satisfied: coinor.cuppy in /usr/local/lib/python3.8/dist-packages (0.96.2)\n",
            "Requirement already satisfied: pulp in /usr/local/lib/python3.8/dist-packages (from coinor.cuppy) (2.7.0)\n",
            "Requirement already satisfied: coinor.grumpy>=0.95.0 in /usr/local/lib/python3.8/dist-packages (from coinor.cuppy) (0.95.1)\n",
            "Requirement already satisfied: cylp>=0.9.0 in /usr/local/lib/python3.8/dist-packages (from coinor.cuppy) (0.91.5)\n",
            "Requirement already satisfied: pypolyhedron in /usr/local/lib/python3.8/dist-packages (from coinor.cuppy) (0.3.3)\n",
            "Requirement already satisfied: coinor.gimpy>=2.1.0 in /usr/local/lib/python3.8/dist-packages (from coinor.grumpy>=0.95.0->coinor.cuppy) (2.1.1)\n",
            "Requirement already satisfied: coinor.blimpy>=2.0.0 in /usr/local/lib/python3.8/dist-packages (from coinor.gimpy>=2.1.0->coinor.grumpy>=0.95.0->coinor.cuppy) (2.0.0)\n",
            "Requirement already satisfied: scipy>=0.10.0 in /usr/local/lib/python3.8/dist-packages (from cylp>=0.9.0->coinor.cuppy) (1.7.3)\n",
            "Requirement already satisfied: numpy>=1.5.0 in /usr/local/lib/python3.8/dist-packages (from cylp>=0.9.0->coinor.cuppy) (1.21.6)\n"
          ]
        }
      ]
    },
    {
      "cell_type": "code",
      "source": [
        "pip install coinor.grumpy"
      ],
      "metadata": {
        "colab": {
          "base_uri": "https://localhost:8080/"
        },
        "id": "vbg8VjAVBd5t",
        "outputId": "965bda16-b114-4093-cb3a-37c992694f42"
      },
      "execution_count": null,
      "outputs": [
        {
          "output_type": "stream",
          "name": "stdout",
          "text": [
            "Looking in indexes: https://pypi.org/simple, https://us-python.pkg.dev/colab-wheels/public/simple/\n",
            "Requirement already satisfied: coinor.grumpy in /usr/local/lib/python3.8/dist-packages (0.95.1)\n",
            "Requirement already satisfied: pulp in /usr/local/lib/python3.8/dist-packages (from coinor.grumpy) (2.7.0)\n",
            "Requirement already satisfied: coinor.gimpy>=2.1.0 in /usr/local/lib/python3.8/dist-packages (from coinor.grumpy) (2.1.1)\n",
            "Requirement already satisfied: coinor.blimpy>=2.0.0 in /usr/local/lib/python3.8/dist-packages (from coinor.gimpy>=2.1.0->coinor.grumpy) (2.0.0)\n"
          ]
        }
      ]
    },
    {
      "cell_type": "code",
      "source": [
        "pip install graphviz"
      ],
      "metadata": {
        "colab": {
          "base_uri": "https://localhost:8080/"
        },
        "id": "FWgIRidABd3k",
        "outputId": "c8bcd577-bd63-4689-e135-10fdce53aac5"
      },
      "execution_count": null,
      "outputs": [
        {
          "output_type": "stream",
          "name": "stdout",
          "text": [
            "Looking in indexes: https://pypi.org/simple, https://us-python.pkg.dev/colab-wheels/public/simple/\n",
            "Requirement already satisfied: graphviz in /usr/local/lib/python3.8/dist-packages (0.10.1)\n"
          ]
        }
      ]
    },
    {
      "cell_type": "code",
      "source": [
        "pip install py-gnuplot"
      ],
      "metadata": {
        "colab": {
          "base_uri": "https://localhost:8080/"
        },
        "id": "oIYX8GN4Bd1g",
        "outputId": "b9175b89-ed29-4fab-a4b0-029ab548caf6"
      },
      "execution_count": null,
      "outputs": [
        {
          "output_type": "stream",
          "name": "stdout",
          "text": [
            "Looking in indexes: https://pypi.org/simple, https://us-python.pkg.dev/colab-wheels/public/simple/\n",
            "Requirement already satisfied: py-gnuplot in /usr/local/lib/python3.8/dist-packages (1.1.8)\n",
            "Requirement already satisfied: pandas in /usr/local/lib/python3.8/dist-packages (from py-gnuplot) (1.3.5)\n",
            "Requirement already satisfied: python-dateutil>=2.7.3 in /usr/local/lib/python3.8/dist-packages (from pandas->py-gnuplot) (2.8.2)\n",
            "Requirement already satisfied: numpy>=1.17.3 in /usr/local/lib/python3.8/dist-packages (from pandas->py-gnuplot) (1.21.6)\n",
            "Requirement already satisfied: pytz>=2017.3 in /usr/local/lib/python3.8/dist-packages (from pandas->py-gnuplot) (2022.6)\n",
            "Requirement already satisfied: six>=1.5 in /usr/local/lib/python3.8/dist-packages (from python-dateutil>=2.7.3->pandas->py-gnuplot) (1.15.0)\n"
          ]
        }
      ]
    },
    {
      "cell_type": "code",
      "source": [
        "pip install pypolyhedron"
      ],
      "metadata": {
        "colab": {
          "base_uri": "https://localhost:8080/"
        },
        "id": "cw-al_EgBdzv",
        "outputId": "b172fc72-1782-46e2-a27d-1cb3e39de2e4"
      },
      "execution_count": null,
      "outputs": [
        {
          "output_type": "stream",
          "name": "stdout",
          "text": [
            "Looking in indexes: https://pypi.org/simple, https://us-python.pkg.dev/colab-wheels/public/simple/\n",
            "Requirement already satisfied: pypolyhedron in /usr/local/lib/python3.8/dist-packages (0.3.3)\n",
            "Requirement already satisfied: numpy in /usr/local/lib/python3.8/dist-packages (from pypolyhedron) (1.21.6)\n"
          ]
        }
      ]
    },
    {
      "cell_type": "markdown",
      "source": [
        "# **Dependencies**"
      ],
      "metadata": {
        "id": "XqQdcE9abaOG"
      }
    },
    {
      "cell_type": "code",
      "source": [
        "import numpy as np\n",
        "import itertools\n",
        "from coinor.cuppy import *\n",
        "from cylp.cy import CyClpSimplex\n",
        "from cylp.py.modeling import CyLPModel, CyLPArray\n",
        "from coinor.cuppy.cuttingPlanes import *\n",
        "from coinor.cuppy.milpInstance import MILPInstance\n",
        "from coinor.cuppy.genericSeparation import GenericSeparation\n",
        "\n",
        "import graphviz as gviz\n",
        "import matplotlib as mpb\n",
        "import matplotlib.pyplot as plt\n",
        "from coinor.grumpy.polyhedron2D import Polyhedron2D, Figure"
      ],
      "metadata": {
        "id": "bcYKPKlubck6"
      },
      "execution_count": null,
      "outputs": []
    },
    {
      "cell_type": "code",
      "source": [
        "np.set_printoptions(edgeitems=30, linewidth=100000)"
      ],
      "metadata": {
        "id": "d1HKk2B6oTPy"
      },
      "execution_count": null,
      "outputs": []
    },
    {
      "cell_type": "code",
      "source": [
        "EPS = 5"
      ],
      "metadata": {
        "id": "j6UZFLFxzGhw"
      },
      "execution_count": null,
      "outputs": []
    },
    {
      "cell_type": "markdown",
      "source": [
        "The following block of code is originally work of *Andrey Lovyagin* and is obtained from https://github.com/r4ndompuff/polyhedral_set. The original code's purpose is to extract the extreme points of a polyhedron. I changed the definition of **extreme_points** function to also return the list of adjacent faces which produce the extreme points. Furthermore, I altered the definition of **check_extreme** function to be compatible with CyClpSimplex package and to use MILP instance's sense (instead of it's non-user-friendly original sense input).\n",
        "This function helps if someone wants to extract any binding combination of constraints.\n",
        "\n",
        "This was formerly needed for CGCut, but after discussion with you I decided to stick with the CG multipliers from the tableau to define the CGCut function. However, I decided to leave it here, as part of my effort to find the binding constraints (at optimality) as my initial strategy. In the draft after CGCut or in ZHCGCut (*not useable as a function*) function, you can see how this block was used. In the previous version of CGCut, I only generated u randomly instrad of choosing between 0 and 1/2."
      ],
      "metadata": {
        "id": "n4PffC2JFVyH"
      }
    },
    {
      "cell_type": "code",
      "source": [
        "import numpy as np\n",
        "import itertools as it\n",
        "from math import factorial\n",
        "import re\n",
        "\n",
        "def permutation(numCons, numVars):\n",
        "    return factorial(numVars) / (factorial(numVars - numCons) * factorial(numCons))\n",
        "\n",
        "def matrix_combinations(matr, numVars):\n",
        "    timed = list(map(list, it.combinations(matr, numVars)))\n",
        "    return np.array(list(timed))\n",
        "\n",
        "def array_combinations(arr, numVars):\n",
        "    timed = list(map(list, it.combinations(arr, numVars)))\n",
        "    return np.array(list(timed))\n",
        "\n",
        "def check_extreme(matr, arr, x, numCons):\n",
        "    for i in range(int(numCons)):\n",
        "        td_answer = sum(matr[i] * x)\n",
        "        if m.sense == '>=':\n",
        "            if td_answer < arr[i]:\n",
        "                return 0\n",
        "        elif m.sense == '<=':\n",
        "            if td_answer > arr[i]:\n",
        "                return 0\n",
        "        elif m.sense == '=':\n",
        "            if td_answer != arr[i]:\n",
        "                return 0\n",
        "        else:\n",
        "            return 0\n",
        "    return 1\n",
        "\n",
        "def extreme_points(A, b):\n",
        "    # Input\n",
        "    A = np.array(A)\n",
        "    b = np.array(b)\n",
        "    numCons, numVars = A.shape\n",
        "    # Process\n",
        "    ans_comb = np.zeros((1, numVars))\n",
        "    arr_comb = array_combinations(b, numVars)\n",
        "    matr_comb = matrix_combinations(A, numVars)\n",
        "    for i in range(int(permutation(numVars, numCons))):\n",
        "        if np.linalg.det(matr_comb[i]) != 0:\n",
        "            x = np.linalg.solve(np.array(matr_comb[i], dtype='float'),\n",
        "                                np.array(arr_comb[i], dtype='float'))\n",
        "            ans_comb = np.vstack([ans_comb, x])\n",
        "    ans_comb = np.delete(ans_comb, 0, axis=0)\n",
        "    j = 0\n",
        "    for i in range(len(ans_comb)):\n",
        "        if check_extreme(A, b, ans_comb[j], numCons):\n",
        "            ans_comb = ans_comb\n",
        "            j += 1\n",
        "        else:\n",
        "            ans_comb = np.delete(ans_comb, j, axis=0)\n",
        "            matr_comb = np.delete(matr_comb, j, axis=0)\n",
        "    # Output\n",
        "    return (ans_comb, matr_comb)"
      ],
      "metadata": {
        "id": "ewnhHq149Laa"
      },
      "execution_count": null,
      "outputs": []
    },
    {
      "cell_type": "markdown",
      "source": [
        "# **Chvátal-Gomory Rounding Procedure**"
      ],
      "metadata": {
        "id": "IA9eLn40ap5v"
      }
    },
    {
      "cell_type": "code",
      "source": [
        "def CGCut(m, rowInds = None, eps = EPS, debug_print = False):\n",
        "  '''Returns the inequalities obrtained by Chvátal-Gomory rounding procedure\n",
        "     based on multipliers extracted from the tableau (inverse of the basis).\n",
        "  '''\n",
        "\n",
        "  cuts = []\n",
        "  lp = m.lp\n",
        "\n",
        "  for row in range(lp.nConstraints):\n",
        "    u = np.around(lp.tableau[row, lp.nVariables:], decimals = eps) - np.floor(np.around(lp.tableau[row, lp.nVariables:], decimals = eps))\n",
        "    lhs = np.matmul(u, m.A)\n",
        "    pi = np.zeros(len(lhs))\n",
        "    pi0 = 0\n",
        "    for i in range(len(lhs)):\n",
        "      if np.linalg.norm(lhs[i] - np.rint(lhs[i])) <= 10**(-2):\n",
        "        pi[i] = np.rint(lhs[i])\n",
        "      else:\n",
        "        pi[i] = np.floor(lhs[i])\n",
        "\n",
        "    rhs = np.matmul(u, m.b)\n",
        "    if np.linalg.norm(rhs - np.rint(rhs)) <= 10**(-2):\n",
        "      pi0 = np.rint(rhs)\n",
        "    else:\n",
        "      pi0 = np.floor(rhs)\n",
        "\n",
        "    if m.sense == '<=':\n",
        "        cuts.append((pi, pi0))\n",
        "    else:\n",
        "        cuts.append((-pi, -pi0))\n",
        "  return cuts, []"
      ],
      "metadata": {
        "id": "3PIlpl9FavJg"
      },
      "execution_count": null,
      "outputs": []
    },
    {
      "cell_type": "code",
      "source": [
        "'''\n",
        "Previous Version of CGCut\n",
        "'''\n",
        "# cuts = []\n",
        "# lp = m.lp\n",
        "# numCons, numVars = m.A.shape\n",
        "\n",
        "# xtreme_points, adj_ineq = extreme_points(m.A,m.b)\n",
        "# optind = np.where(xtreme_points == lp.primalVariableSolution['x'])\n",
        "# A_bind = adj_ineq[optind[0][0]]\n",
        "\n",
        "# u = np.round(np.random.rand(lp.nConstraints), 2)\n",
        "# print(u)\n",
        "# #1\n",
        "# lhs = np.zeros(len(integerIndices))\n",
        "# for i in integerIndices:\n",
        "#   lhs += u[i] * A_bind[i]\n",
        "# print(lhs)\n",
        "# #1\n",
        "# rhs = 0\n",
        "# for i in integerIndices:\n",
        "#   rhs = rhs + (u[i] * m.b[np.where(m.A == A_bind[i])[0][0]])\n",
        "# print(rhs)\n",
        "# #1\n",
        "\n",
        "# if (np.dot(lhs, lp.primalVariableSolution['x']) -rhs) > 10**(-4) :\n",
        "#   print('Invalid inequality (before rounding) for the LP polyhedron')\n",
        "#   while (np.matmul(lp.primalVariableSolution['x'],lhs) <= rhs):\n",
        "#     u = np.round(np.random.rand(lp.nConstraints), 2)\n",
        "#     #2\n",
        "#     lhs = np.zeros(len(integerIndices))\n",
        "#     for i in integerIndices:\n",
        "#       lhs += u[i] * A_bind[i]\n",
        "#     #2\n",
        "#     rhs = 0\n",
        "#     for i in integerIndices:\n",
        "#       rhs = rhs + (u[i] * lp.rhs[np.where(m.A == A_bind[i])[0][0]])\n",
        "#     #2\n",
        "\n",
        "# pi = np.zeros(len(lhs))\n",
        "# pi0 = 0\n",
        "# for i in range(len(lhs)):\n",
        "#   if np.linalg.norm(lhs[i] - np.rint(lhs[i])) <= 10**(-2):\n",
        "#     pi[i] = np.rint(lhs[i])\n",
        "#   else:\n",
        "#     pi[i] = np.floor(lhs[i])\n",
        "\n",
        "# if np.linalg.norm(rhs - np.rint(rhs)) <= 10**(-2):\n",
        "#   pi0 = np.rint(rhs)\n",
        "# else:\n",
        "#   pi0 = np.floor(rhs)\n",
        "\n",
        "# if m.sense == '<=':\n",
        "#     cuts.append((pi, pi0))\n",
        "# else:\n",
        "#     cuts.append((-pi, -pi0))"
      ],
      "metadata": {
        "id": "ux0o1nUEpiwS"
      },
      "execution_count": null,
      "outputs": []
    },
    {
      "cell_type": "markdown",
      "source": [
        " **Zero-half Cut**"
      ],
      "metadata": {
        "id": "f_6EOTRca2uy"
      }
    },
    {
      "cell_type": "markdown",
      "source": [
        "The following function is **not useable**, and is left here as a demonstration of how zero-half cuts were computed. I got the results reported by doing the procedure for only one iteration, without calling it as function by CuPPy or elsewhere. The purpose was only to see how good are these types of cuts."
      ],
      "metadata": {
        "id": "D60Yi7WUCgav"
      }
    },
    {
      "cell_type": "code",
      "source": [
        "def ZHCGCut(m, rowInds = None, eps = EPS, debug_print = False):\n",
        "  '''Return the inequalities obrtained by Chvátal-Gomory rounding procedure\n",
        "     using {0, 0.5} multipliers\n",
        "  '''\n",
        "\n",
        "  zerohalf = [0, 1/2]\n",
        "  cuts = []\n",
        "  lp = m.lp\n",
        "  numCons, numVars = m.A.shape\n",
        "\n",
        "  xtreme_points, adj_ineq = extreme_points(m.A,m.b)\n",
        "  optind = np.where(xtreme_points == lp.primalVariableSolution['x'])\n",
        "  A_bind = adj_ineq[optind[0][0]]\n",
        "  # print(A_bind)\n",
        "\n",
        "  u  = np.random.choice(zerohalf, lp.nConstraints)\n",
        "  # print('  u = ',  u)\n",
        "  lhs = np.zeros(len(integerIndices))\n",
        "  for i in integerIndices:\n",
        "    lhs += u[i] * A_bind[i]\n",
        "  # print('lhs = ',lhs)\n",
        "  rhs = 0\n",
        "  for i in integerIndices:\n",
        "    rhs = rhs + (u[i] * m.b[np.where(m.A == A_bind[i])[0][0]])\n",
        "  # print('rhs = ',rhs)\n",
        "\n",
        "  # Check if the the inequality (before rounding) supports the LP polyhedron\n",
        "  if (np.dot(lhs, lp.primalVariableSolution['x']) -rhs) > 10**(-4) :\n",
        "    print('Invalid inequality (before rounding) for the LP polyhedron')\n",
        "\n",
        "  pi = np.zeros(len(lhs))\n",
        "  pi0 = 0\n",
        "  for i in range(len(lhs)):\n",
        "    if np.linalg.norm(lhs[i] - np.rint(lhs[i])) <= 10**(-2):\n",
        "      pi[i] = np.rint(lhs[i])\n",
        "    else:\n",
        "      pi[i] = np.floor(lhs[i])\n",
        "\n",
        "  if np.linalg.norm(rhs - np.rint(rhs)) <= 10**(-2):\n",
        "    pi0 = np.rint(rhs)\n",
        "  else:\n",
        "    pi0 = np.floor(rhs)\n",
        "  # print('(pi, pi0) = ',pi, pi0)\n",
        "\n",
        "  return cuts, []"
      ],
      "metadata": {
        "id": "fITaZIepa8ce"
      },
      "execution_count": null,
      "outputs": []
    },
    {
      "cell_type": "code",
      "source": [
        "# pi       = np.array([np.floor(lp.coefMatrix[row,j]) + (np.max(0,(f[j] - f0))/(1 - f0)) for j in integerIndices])\n",
        "# pi_cont  = np.array([lp.coefMatrix[row,j]/(1-f0) if  lp.coefMatrix[row,j] < 0 else 0 for j in np.delete(range(lp.nVariables), IntInd)])\n",
        "# pi       = np.zeros(lp.nVariables)\n",
        "# pi_cont  = np.zeros(lp.nVariables)\n",
        "# for j in integerIndices:\n",
        "#   pi[j]  = np.floor(lp.tableau[row,j]) + (np.maximum(0,(f[j] - f0))/(1 - f0))\n",
        "\n",
        "# pi_cont  = np.array([A[row,j]/(1-f0) if  A[row,j] < 0 else 0 for j in np.delete(range(lp.nVariables), integerIndices)])\n",
        "# for j in np.delete(range(lp.nVariables), integerIndices):\n",
        "#     if lp.tableau[row,j] < 0:\n",
        "#       pi_cont[j]   = np.array(lp.tableau[[row,j]/(1-f0)])\n",
        "#     else:\n",
        "#       pi_cont[j]   = 0"
      ],
      "metadata": {
        "id": "LT57O7jB-gRb"
      },
      "execution_count": null,
      "outputs": []
    },
    {
      "cell_type": "markdown",
      "source": [
        "# **Mixed Interger Rounding**"
      ],
      "metadata": {
        "id": "i0lakdgHaxXN"
      }
    },
    {
      "cell_type": "markdown",
      "source": [
        "Mixed Integer Rounding (MIR) inequality is as follows:\n",
        "\\begin{equation*}\n",
        "\\sum_{j=1}^{p} (\\lfloor a_j \\rfloor + \\frac{(f_j - f_0)^+}{1-f_0}) x_j + \\frac{1}{1-f_0} \\sum_{p+1 \\leq j \\leq n : a_j <0} a_j x_j \\leq \\lfloor b \\rfloor.\n",
        "\\end{equation*}\n",
        "where $f_j = a_j - \\lfloor a_j \\rfloor$ and $f_0 = b - \\lfloor b \\rfloor$.\n",
        "\n",
        "\n",
        "\n",
        "\n",
        "\n"
      ],
      "metadata": {
        "id": "3zrLHZgK4K9l"
      }
    },
    {
      "cell_type": "code",
      "source": [
        "def MIRCut(m, rowInds = None, eps = EPS, debug_print = False):\n",
        "    '''Returns the Mixed Integer Rounding (MIR) Inequalities'''\n",
        "\n",
        "    cuts = []\n",
        "    lp = m.lp\n",
        "    sol = lp.primalVariableSolution['x']\n",
        "    if rowInds is None:\n",
        "            rowInds = list(range(lp.nConstraints))\n",
        "    for row in rowInds:\n",
        "            basicVarInd = lp.basicVariables[row]\n",
        "            if (basicVarInd in m.integerIndices) and (not isInt(sol[basicVarInd], eps)):\n",
        "                f0 = getFraction(sol[basicVarInd], eps)\n",
        "                f = []\n",
        "                for i in range(lp.nVariables):\n",
        "                    if i in lp.basicVariables:\n",
        "                        f.append(0)\n",
        "                    else:\n",
        "                      f.append(getFraction(lp.tableau[row, i], eps))\n",
        "\n",
        "                pi = np.array([np.floor(lp.tableau[row,j]) + (np.maximum(0,f[j] - f0))/(1 - f0) for j in m.integerIndices])\n",
        "                pi_slacks = np.array([a/(1-f0) if a < 0 else 0 for a in lp.tableau[row, lp.nVariables:]])\n",
        "                pi -= pi_slacks * lp.coefMatrix\n",
        "                pi0 = (np.floor(sol[basicVarInd]) - np.dot(pi_slacks, lp.constraintsUpper) if m.sense == '<='\n",
        "                      else np.floor(sol[basicVarInd]) + np.dot(pi_slacks, lp.constraintsUpper))\n",
        "                # print('VarInd = ', basicVarInd, ', Cut = ', pi,'<=', pi0)\n",
        "\n",
        "                if m.sense == '<=':\n",
        "                    cuts.append((pi, pi0))\n",
        "                else:\n",
        "                    cuts.append((-pi, -pi0))\n",
        "\n",
        "    return cuts, []"
      ],
      "metadata": {
        "id": "-DtSg8Yua07q"
      },
      "execution_count": null,
      "outputs": []
    },
    {
      "cell_type": "markdown",
      "source": [
        "# **Tests**"
      ],
      "metadata": {
        "id": "er6NY_36yeGq"
      }
    },
    {
      "cell_type": "code",
      "source": [
        "'''\n",
        "Problem 1 of the report\n",
        "'''\n",
        "numVars = 2\n",
        "numCons = 5\n",
        "A = np.array([[-8, 30],\n",
        "              [-14, 8],\n",
        "              [10, 10],\n",
        "              [-1,  0],\n",
        "              [0,  -1]])\n",
        "\n",
        "b = np.array([115,\n",
        "                1,\n",
        "              127,\n",
        "                0,\n",
        "                0,\n",
        "                 ])\n",
        "\n",
        "c = np.array([ 0, 1])\n",
        "\n",
        "sense = ('Max', '<=')\n",
        "integerIndices = [0, 1]\n",
        "\n",
        "m = MILPInstance(A = A, b = b, c = c,\n",
        "                     sense = sense, integerIndices = integerIndices,\n",
        "                     numVars = numVars)"
      ],
      "metadata": {
        "id": "Gsx6qWnzyghd"
      },
      "execution_count": null,
      "outputs": []
    },
    {
      "cell_type": "code",
      "source": [
        "'''\n",
        "Problem 2 of the report\n",
        "'''\n",
        "numVars = 2\n",
        "numCons = 5\n",
        "A = np.array([[4,  1],\n",
        "              [1,  4],\n",
        "              [1, -1],\n",
        "              [-1, 0],\n",
        "              [0, -1]])\n",
        "\n",
        "b = np.array([28,\n",
        "              27,\n",
        "               1,\n",
        "               0,\n",
        "               0])\n",
        "\n",
        "c = np.array([2, 5])\n",
        "sense = ('Max', '<=')\n",
        "integerIndices = [0, 1]\n",
        "opt = np.array([17/3, 16/3])\n",
        "\n",
        "m = MILPInstance(A = A, b = b, c = c,\n",
        "                     sense = sense, integerIndices = integerIndices,\n",
        "                     numVars = numVars)"
      ],
      "metadata": {
        "id": "CesaUWp4TLz1"
      },
      "execution_count": null,
      "outputs": []
    },
    {
      "cell_type": "markdown",
      "source": [
        "The following two blocks of code was intended to generate (first block) visualize (second block) the cuts obtained by different types of rounding (CR, RU, and LURD)."
      ],
      "metadata": {
        "id": "sGac7rFlD-Zn"
      }
    },
    {
      "cell_type": "code",
      "source": [
        "'''\n",
        "Generating cuts obtained by different types of rounding (CR, RU, and LURD).\n",
        "'''\n",
        "zerohalf = [0, 1/2]\n",
        "cuts = []\n",
        "lp = m.lp\n",
        "numCons, numVars = m.A.shape\n",
        "\n",
        "xtreme_points, adj_ineq = extreme_points(m.A,m.b)\n",
        "optind = np.where(xtreme_points == [7, 5.7])\n",
        "A_bind = adj_ineq[optind[0][0]]\n",
        "print(A_bind)\n",
        "\n",
        "u = np.round(np.random.rand(lp.nConstraints), 2)\n",
        "# u  = np.random.choice(zerohalf, lp.nConstraints)\n",
        "print('  u = ',  u)\n",
        "#1\n",
        "lhs = np.zeros(len(integerIndices))\n",
        "for i in integerIndices:\n",
        "  lhs += u[i] * A_bind[i]\n",
        "print('lhs = ',lhs)\n",
        "#1\n",
        "rhs = 0\n",
        "for i in integerIndices:\n",
        "  rhs = rhs + (u[i] * m.b[np.where(m.A == A_bind[i])[0][0]])\n",
        "print('rhs = ',rhs)\n",
        "#1\n",
        "\n",
        "if (np.dot(lhs, lp.primalVariableSolution['x']) -rhs) > 10**(-4) :\n",
        "  print('Invalid inequality (before rounding) for the LP polyhedron')\n",
        "\n",
        "pi = np.zeros(len(lhs))\n",
        "pi0 = 0\n",
        "for i in range(len(lhs)):\n",
        "  if np.linalg.norm(lhs[i] - np.rint(lhs[i])) <= 10**(-2):\n",
        "    pi[i] = np.rint(lhs[i])\n",
        "  else:\n",
        "    pi[i] = np.floor(lhs[i])\n",
        "\n",
        "if np.linalg.norm(rhs - np.rint(rhs)) <= 10**(-2):\n",
        "  pi0 = np.rint(rhs)\n",
        "else:\n",
        "  pi0 = np.floor(rhs)\n",
        "\n",
        "print('(pi, pi0) = ',pi, pi0)"
      ],
      "metadata": {
        "id": "ZzYkP2d0_4xq"
      },
      "execution_count": null,
      "outputs": []
    },
    {
      "cell_type": "code",
      "source": [
        "'''\n",
        "Visualizing cuts obtained by different types of rounding (CR, RU, and LURD).\n",
        "'''\n",
        "A = np.array([[-8, 30],\n",
        "              [-14, 8],\n",
        "              [10, 10],\n",
        "              [-1,  0],\n",
        "              [0,  -1]\n",
        "              ])\n",
        "\n",
        "b = np.array([115,\n",
        "                1,\n",
        "              127,\n",
        "               0,\n",
        "               0\n",
        "              ])\n",
        "f = Figure()\n",
        "p = Polyhedron2D(A = A, b = b)\n",
        "f.add_polyhedron(p, color = 'blue', linestyle = 'solid')\n",
        "f.set_xlim((-1,16))\n",
        "f.set_ylim((-1,11))\n",
        "pI = p.make_integer_hull()\n",
        "f.add_polyhedron(pI, color = 'red', linestyle = 'dashed', show_int_points = True)\n",
        "# for i in range(3):\n",
        "#   u = np.random.rand(5)\n",
        "#   while np.matmul(np.floor(u[0]*A[0] + u[2]*A[2]),opt) <= np.floor(u[0]*b[0] + u[2]*b[2]):\n",
        "#     u = np.random.rand(5)\n",
        "#   f.add_line(np.floor(u[0]*A[0] + u[2]*A[2]), np.floor(u[0]*b[0] + u[2]*b[2]), p.xlim, p.ylim, color = 'black')\n",
        "# f.add_line(lhs, rhs, p.xlim, p.ylim, color = 'k', linestyle = 'dotted')\n",
        "# f.add_line(np.floor(lhs), np.floor(rhs), p.xlim, p.ylim, color = 'r', linestyle = 'dotted')   # Rounded down\n",
        "# f.add_line(np.ceil(lhs), np.ceil(rhs), p.xlim, p.ylim, color = 'g', linestyle = 'dotted')     # Rounded up\n",
        "# f.add_line(np.ceil(lhs), np.floor(rhs), p.xlim, p.ylim, color = 'c', linestyle = 'dotted')    # Coefs. Up, rhs. Down\n",
        "# f.add_line(pi, pi0, p.xlim, p.ylim, color = 'm', linestyle = 'dotted')                      # Conservative rounding\n",
        "f.show(wait_for_click = False)"
      ],
      "metadata": {
        "id": "i8bFY4lT7eBF"
      },
      "execution_count": null,
      "outputs": []
    },
    {
      "cell_type": "code",
      "source": [
        "A = np.array([[4,  1],\n",
        "              [1,  4],\n",
        "              [1, -1],\n",
        "              [-1, 0],\n",
        "              [0, -1]])\n",
        "\n",
        "b = np.array([28,\n",
        "              27,\n",
        "               1,\n",
        "               0,\n",
        "               0])\n",
        "f = Figure()\n",
        "p = Polyhedron2D(A = A, b = b)\n",
        "f.add_polyhedron(p, color = 'blue', linestyle = 'solid')\n",
        "f.set_xlim((-1,16))\n",
        "f.set_ylim((-1, 10))\n",
        "pI = p.make_integer_hull()\n",
        "f.add_polyhedron(pI, color = 'red', linestyle = 'dashed', show_int_points = True)\n",
        "# for i in range(3):\n",
        "#   u = np.random.rand(5)\n",
        "#   while np.matmul(np.floor(u[0]*A[0] + u[2]*A[2]),opt) <= np.floor(u[0]*b[0] + u[2]*b[2]):\n",
        "#     u = np.random.rand(5)\n",
        "#   f.add_line(np.floor(u[0]*A[0] + u[2]*A[2]), np.floor(u[0]*b[0] + u[2]*b[2]), p.xlim, p.ylim, color = 'black')\n",
        "# f.add_line(lhs, rhs, p.xlim, p.ylim, color = 'k', linestyle = 'dotted')\n",
        "# f.add_line(np.floor(lhs), np.floor(rhs), p.xlim, p.ylim, color = 'r', linestyle = 'dotted') # Rounded down\n",
        "# f.add_line(np.ceil(lhs), np.ceil(rhs), p.xlim, p.ylim, color = 'g', linestyle = 'dotted')   # Rounded up\n",
        "# f.add_line(np.ceil(lhs), np.floor(rhs), p.xlim, p.ylim, color = 'c', linestyle = 'dotted')  # Coefs. Up, rhs. Down\n",
        "# f.add_line(pi, pi0, p.xlim, p.ylim, color = 'm', linestyle = 'dotted')                      # Conservative rounding\n",
        "f.show(wait_for_click = False)"
      ],
      "metadata": {
        "id": "fzNuMIydB_mj"
      },
      "execution_count": null,
      "outputs": []
    },
    {
      "cell_type": "code",
      "source": [
        "solve(m, whichCuts = [(CGCut, {})], display = False, debug_print = False, max_iter=10000, max_cuts=10000)"
      ],
      "metadata": {
        "id": "jNMJyoZ0W9Nu"
      },
      "execution_count": null,
      "outputs": []
    },
    {
      "cell_type": "code",
      "source": [
        "solve(m, whichCuts = [(MIRCut, {})], display = False, debug_print = False, max_iter=10000, max_cuts=10000)"
      ],
      "metadata": {
        "id": "Sw29dVMxz0JT"
      },
      "execution_count": null,
      "outputs": []
    },
    {
      "cell_type": "code",
      "source": [
        "solve(m, whichCuts = [(gomoryMixedIntegerCut, {})], display = False, debug_print = False, max_iter=10000, max_cuts=10000)"
      ],
      "metadata": {
        "id": "gEevwvaEzhMb"
      },
      "execution_count": null,
      "outputs": []
    },
    {
      "cell_type": "code",
      "source": [
        "solve(MILPInstance(module_name = 'coinor.cuppy.examples.MIP6'),\n",
        "      whichCuts = [(CGCut, {})],\n",
        "      display = False, debug_print = False, max_iter=10000, max_cuts=10000)"
      ],
      "metadata": {
        "id": "fHgDrE7L1iU1"
      },
      "execution_count": null,
      "outputs": []
    },
    {
      "cell_type": "code",
      "source": [
        "solve(MILPInstance(module_name = 'coinor.cuppy.examples.MIP6'),\n",
        "      whichCuts = [(MIRCut, {})],\n",
        "      display = False, debug_print = False, max_iter=10000, max_cuts=10000)"
      ],
      "metadata": {
        "id": "jFpAqM4gE_jq"
      },
      "execution_count": null,
      "outputs": []
    },
    {
      "cell_type": "code",
      "source": [
        "solve(MILPInstance(module_name = 'coinor.cuppy.examples.MIP6'),\n",
        "      whichCuts = [(gomoryMixedIntegerCut, {})],\n",
        "      display = False, debug_print = False, max_iter=10000, max_cuts=10000)"
      ],
      "metadata": {
        "id": "G071yk_j3jQu"
      },
      "execution_count": null,
      "outputs": []
    }
  ]
}